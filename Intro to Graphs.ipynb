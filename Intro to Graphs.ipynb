{
 "cells": [
  {
   "cell_type": "markdown",
   "metadata": {
    "colab_type": "text",
    "id": "XXi2p683_7ct"
   },
   "source": [
    "# Resources\n",
    "\n",
    "- [Networks, Crowds & Markets](http://www.cs.cornell.edu/home/kleinber/networks-book/) (free!)\n",
    "\n",
    "- Matthew O. Jackson's book on [Social and economic networks](https://web.stanford.edu/~jacksonm/books.html)\n",
    "\n",
    "- Graph algorithms in typical CS algorithms course\n",
    "  - CLRS textbook\n",
    "  - Skiena textbook\n",
    "  - Coursera algorithms course (parts 10 and on)\n",
    "\n",
    "- [NetworkX](https://networkx.github.io/documentation/stable/) python library"
   ]
  },
  {
   "cell_type": "markdown",
   "metadata": {
    "colab_type": "text",
    "id": "-aseE-NHAr-g"
   },
   "source": [
    "# Networks AKA Graphs\n",
    "\n",
    "The graph is the mathematical object representing a network.  This is powerful because it can represent any kind of structure where relations between objects matter. Here are examples:\n",
    "\n",
    "- Social networks (Facebook friends, Twitter followers, etc.)\n",
    "\n",
    "- Structural networks (internet hyperlink graph, transportation networks, matching markets, etc.)\n",
    "\n",
    "- Interaction networks (Mastercard's transaction network, word co-occurence networks in NLP, chemical interaction networks)\n",
    "\n",
    "- Tree networks. For instance the decisions you can possibly take in chess can be modeled as a [decision tree](https://en.wikipedia.org/wiki/Decision_tree). \n",
    "\n",
    "Because of this flexibility, graphs are used all over the place in computer science. Neural networks are based on a graph model (hence the \"network\" part). Most social apps depends critically on their user network. Most game AI are based around [tree search](https://en.wikipedia.org/wiki/Game_tree). They're used to model disease diffusion and contagion, etc. etc.\n",
    "\n"
   ]
  },
  {
   "cell_type": "markdown",
   "metadata": {
    "colab_type": "text",
    "id": "Pu9uRaPqDnHv"
   },
   "source": [
    "Start with importing the [networkX library](https://networkx.github.io/documentation/stable/) which is good for small to medium sized graphs. Let's start by drawing the [petersen graph](https://en.wikipedia.org/wiki/Petersen_graph):"
   ]
  },
  {
   "cell_type": "code",
   "execution_count": 2,
   "metadata": {
    "colab": {
     "base_uri": "https://localhost:8080/",
     "height": 319
    },
    "colab_type": "code",
    "executionInfo": {
     "elapsed": 677,
     "status": "ok",
     "timestamp": 1595899934394,
     "user": {
      "displayName": "Matthieu Ranger",
      "photoUrl": "",
      "userId": "05160963434497794589"
     },
     "user_tz": 240
    },
    "id": "Bjyo1k7SV_T8",
    "outputId": "625fd9de-c148-44fe-ac6d-e48fcf144e72"
   },
   "outputs": [
    {
     "data": {
      "image/png": "[encoded data removed]",
      "image/svg+xml": [
       "<?xml version=\"1.0\" encoding=\"utf-8\" standalone=\"no\"?>\n",
       "<!DOCTYPE svg PUBLIC \"-//W3C//DTD SVG 1.1//EN\"\n",
       "  \"http://www.w3.org/Graphics/SVG/1.1/DTD/svg11.dtd\">\n",
       "<!-- Created with matplotlib (https://matplotlib.org/) -->\n",
       "<svg height=\"302.4pt\" version=\"1.1\" viewBox=\"0 0 446.4 302.4\" width=\"446.4pt\" xmlns=\"http://www.w3.org/2000/svg\" xmlns:xlink=\"http://www.w3.org/1999/xlink\">\n",
       " <metadata>\n",
       "  <rdf:RDF xmlns:cc=\"http://creativecommons.org/ns#\" xmlns:dc=\"http://purl.org/dc/elements/1.1/\" xmlns:rdf=\"http://www.w3.org/1999/02/22-rdf-syntax-ns#\">\n",
       "   <cc:Work>\n",
       "    <dc:type rdf:resource=\"http://purl.org/dc/dcmitype/StillImage\"/>\n",
       "    <dc:date>2020-11-11T09:45:05.329081</dc:date>\n",
       "    <dc:format>image/svg+xml</dc:format>\n",
       "    <dc:creator>\n",
       "     <cc:Agent>\n",
       "      <dc:title>Matplotlib v3.3.1, https://matplotlib.org/</dc:title>\n",
       "     </cc:Agent>\n",
       "    </dc:creator>\n",
       "   </cc:Work>\n",
       "  </rdf:RDF>\n",
       " </metadata>\n",
       " <defs>\n",
       "  <style type=\"text/css\">*{stroke-linecap:butt;stroke-linejoin:round;}</style>\n",
       " </defs>\n",
       " <g id=\"figure_1\">\n",
       "  <g id=\"patch_1\">\n",
       "   <path d=\"M 0 302.4 \n",
       "L 446.4 302.4 \n",
       "L 446.4 0 \n",
       "L 0 0 \n",
       "z\n",
       "\" style=\"fill:#ffffff;\"/>\n",
       "  </g>\n",
       "  <g id=\"axes_1\">\n",
       "   <g id=\"LineCollection_1\">\n",
       "    <path clip-path=\"url(#p7a137fdbe9)\" d=\"M 223.823629 126.381582 \n",
       "L 419.563636 139.155742 \n",
       "\" style=\"fill:none;stroke:#000000;\"/>\n",
       "    <path clip-path=\"url(#p7a137fdbe9)\" d=\"M 223.823629 126.381582 \n",
       "L 203.59327 251.08766 \n",
       "\" style=\"fill:none;stroke:#000000;\"/>\n",
       "    <path clip-path=\"url(#p7a137fdbe9)\" d=\"M 223.823629 126.381582 \n",
       "L 26.836364 104.890739 \n",
       "\" style=\"fill:none;stroke:#000000;\"/>\n",
       "    <path clip-path=\"url(#p7a137fdbe9)\" d=\"M 419.563636 139.155742 \n",
       "L 308.4591 29.004175 \n",
       "\" style=\"fill:none;stroke:#000000;\"/>\n",
       "    <path clip-path=\"url(#p7a137fdbe9)\" d=\"M 419.563636 139.155742 \n",
       "L 325.707877 282.109091 \n",
       "\" style=\"fill:none;stroke:#000000;\"/>\n",
       "    <path clip-path=\"url(#p7a137fdbe9)\" d=\"M 308.4591 29.004175 \n",
       "L 128.367156 154.85344 \n",
       "\" style=\"fill:none;stroke:#000000;\"/>\n",
       "    <path clip-path=\"url(#p7a137fdbe9)\" d=\"M 308.4591 29.004175 \n",
       "L 174.88762 20.290909 \n",
       "\" style=\"fill:none;stroke:#000000;\"/>\n",
       "    <path clip-path=\"url(#p7a137fdbe9)\" d=\"M 128.367156 154.85344 \n",
       "L 203.59327 251.08766 \n",
       "\" style=\"fill:none;stroke:#000000;\"/>\n",
       "    <path clip-path=\"url(#p7a137fdbe9)\" d=\"M 128.367156 154.85344 \n",
       "L 77.621745 258.4245 \n",
       "\" style=\"fill:none;stroke:#000000;\"/>\n",
       "    <path clip-path=\"url(#p7a137fdbe9)\" d=\"M 203.59327 251.08766 \n",
       "L 309.850816 174.955114 \n",
       "\" style=\"fill:none;stroke:#000000;\"/>\n",
       "    <path clip-path=\"url(#p7a137fdbe9)\" d=\"M 26.836364 104.890739 \n",
       "L 174.88762 20.290909 \n",
       "\" style=\"fill:none;stroke:#000000;\"/>\n",
       "    <path clip-path=\"url(#p7a137fdbe9)\" d=\"M 26.836364 104.890739 \n",
       "L 77.621745 258.4245 \n",
       "\" style=\"fill:none;stroke:#000000;\"/>\n",
       "    <path clip-path=\"url(#p7a137fdbe9)\" d=\"M 325.707877 282.109091 \n",
       "L 77.621745 258.4245 \n",
       "\" style=\"fill:none;stroke:#000000;\"/>\n",
       "    <path clip-path=\"url(#p7a137fdbe9)\" d=\"M 325.707877 282.109091 \n",
       "L 309.850816 174.955114 \n",
       "\" style=\"fill:none;stroke:#000000;\"/>\n",
       "    <path clip-path=\"url(#p7a137fdbe9)\" d=\"M 174.88762 20.290909 \n",
       "L 309.850816 174.955114 \n",
       "\" style=\"fill:none;stroke:#000000;\"/>\n",
       "   </g>\n",
       "   <g id=\"PathCollection_1\">\n",
       "    <defs>\n",
       "     <path d=\"M 0 8.660254 \n",
       "C 2.296726 8.660254 4.499694 7.747755 6.123724 6.123724 \n",
       "C 7.747755 4.499694 8.660254 2.296726 8.660254 0 \n",
       "C 8.660254 -2.296726 7.747755 -4.499694 6.123724 -6.123724 \n",
       "C 4.499694 -7.747755 2.296726 -8.660254 0 -8.660254 \n",
       "C -2.296726 -8.660254 -4.499694 -7.747755 -6.123724 -6.123724 \n",
       "C -7.747755 -4.499694 -8.660254 -2.296726 -8.660254 0 \n",
       "C -8.660254 2.296726 -7.747755 4.499694 -6.123724 6.123724 \n",
       "C -4.499694 7.747755 -2.296726 8.660254 0 8.660254 \n",
       "z\n",
       "\" id=\"mdb7b4f17cc\" style=\"stroke:#1f78b4;\"/>\n",
       "    </defs>\n",
       "    <g clip-path=\"url(#p7a137fdbe9)\">\n",
       "     <use style=\"fill:#1f78b4;stroke:#1f78b4;\" x=\"223.823629\" xlink:href=\"#mdb7b4f17cc\" y=\"126.381582\"/>\n",
       "     <use style=\"fill:#1f78b4;stroke:#1f78b4;\" x=\"419.563636\" xlink:href=\"#mdb7b4f17cc\" y=\"139.155742\"/>\n",
       "     <use style=\"fill:#1f78b4;stroke:#1f78b4;\" x=\"308.4591\" xlink:href=\"#mdb7b4f17cc\" y=\"29.004175\"/>\n",
       "     <use style=\"fill:#1f78b4;stroke:#1f78b4;\" x=\"128.367156\" xlink:href=\"#mdb7b4f17cc\" y=\"154.85344\"/>\n",
       "     <use style=\"fill:#1f78b4;stroke:#1f78b4;\" x=\"203.59327\" xlink:href=\"#mdb7b4f17cc\" y=\"251.08766\"/>\n",
       "     <use style=\"fill:#1f78b4;stroke:#1f78b4;\" x=\"26.836364\" xlink:href=\"#mdb7b4f17cc\" y=\"104.890739\"/>\n",
       "     <use style=\"fill:#1f78b4;stroke:#1f78b4;\" x=\"325.707877\" xlink:href=\"#mdb7b4f17cc\" y=\"282.109091\"/>\n",
       "     <use style=\"fill:#1f78b4;stroke:#1f78b4;\" x=\"174.88762\" xlink:href=\"#mdb7b4f17cc\" y=\"20.290909\"/>\n",
       "     <use style=\"fill:#1f78b4;stroke:#1f78b4;\" x=\"77.621745\" xlink:href=\"#mdb7b4f17cc\" y=\"258.4245\"/>\n",
       "     <use style=\"fill:#1f78b4;stroke:#1f78b4;\" x=\"309.850816\" xlink:href=\"#mdb7b4f17cc\" y=\"174.955114\"/>\n",
       "    </g>\n",
       "   </g>\n",
       "  </g>\n",
       " </g>\n",
       " <defs>\n",
       "  <clipPath id=\"p7a137fdbe9\">\n",
       "   <rect height=\"288\" width=\"432\" x=\"7.2\" y=\"7.2\"/>\n",
       "  </clipPath>\n",
       " </defs>\n",
       "</svg>\n"
      ],
      "text/plain": [
       "<Figure size 432x288 with 1 Axes>"
      ]
     },
     "metadata": {},
     "output_type": "display_data"
    }
   ],
   "source": [
    "import networkx as nx\n",
    "\n",
    "G = nx.petersen_graph()\n",
    "nx.draw(G)"
   ]
  },
  {
   "cell_type": "markdown",
   "metadata": {
    "colab_type": "text",
    "id": "Nx_GqFu2CfFk"
   },
   "source": [
    "Right away we'll notice that graphs are complex objects. \n",
    "\n",
    "If we draw the Petersen Graph differently a much clearer structure emerges:"
   ]
  },
  {
   "cell_type": "code",
   "execution_count": 11,
   "metadata": {
    "colab": {
     "base_uri": "https://localhost:8080/",
     "height": 319
    },
    "colab_type": "code",
    "executionInfo": {
     "elapsed": 604,
     "status": "ok",
     "timestamp": 1595899831945,
     "user": {
      "displayName": "Matthieu Ranger",
      "photoUrl": "",
      "userId": "05160963434497794589"
     },
     "user_tz": 240
    },
    "id": "7lxULoTfCfRS",
    "outputId": "4eea8d47-6564-4f8e-fd1a-fb7faa23da77"
   },
   "outputs": [
    {
     "data": {
      "image/png": "[encoded data removed]",
      "text/plain": [
       "<Figure size 432x288 with 1 Axes>"
      ]
     },
     "metadata": {
      "tags": []
     },
     "output_type": "display_data"
    }
   ],
   "source": [
    "nx.draw_shell(G, nlist=[range(5, 10), range(5)], with_labels=True, font_weight='bold')"
   ]
  },
  {
   "cell_type": "markdown",
   "metadata": {
    "colab_type": "text",
    "id": "CTNIr5qWDTdN"
   },
   "source": [
    "First we note a few things. A graph is made of two types of data:\n",
    "\n",
    "- **Nodes** also sometimes called **vertices** are the endpoints. In a social networks there would be one per user. Nodes can have types or other associated data\n",
    "\n",
    "- **Edges** are the relations between nodes. Edges can have a direction (from node A to node B) or not (go both ways). Edges can also have **weights** (a number attached to the edge). For example, you could attach the number of interactions between two users to their edge in a social network, this way users who are close friends would be \"more attached\" than mere acquaintances.\n",
    "\n",
    "We generally make a clear distinction between **directed graphs** (graphs with directed edges) and **undirected graphs** (graphs where all edges go both ways). This is because the algorithms are generally specialized.\n",
    "\n",
    "An undirected edge in a directed graph is generally represented by two edges (one for each direction). A directed graph is depicted in networkX with \"arrow edges\":"
   ]
  },
  {
   "cell_type": "code",
   "execution_count": 3,
   "metadata": {},
   "outputs": [
    {
     "data": {
      "image/png": "[encoded data removed]",
      "image/svg+xml": [
       "<?xml version=\"1.0\" encoding=\"utf-8\" standalone=\"no\"?>\n",
       "<!DOCTYPE svg PUBLIC \"-//W3C//DTD SVG 1.1//EN\"\n",
       "  \"http://www.w3.org/Graphics/SVG/1.1/DTD/svg11.dtd\">\n",
       "<!-- Created with matplotlib (https://matplotlib.org/) -->\n",
       "<svg height=\"302.4pt\" version=\"1.1\" viewBox=\"0 0 446.4 302.4\" width=\"446.4pt\" xmlns=\"http://www.w3.org/2000/svg\" xmlns:xlink=\"http://www.w3.org/1999/xlink\">\n",
       " <metadata>\n",
       "  <rdf:RDF xmlns:cc=\"http://creativecommons.org/ns#\" xmlns:dc=\"http://purl.org/dc/elements/1.1/\" xmlns:rdf=\"http://www.w3.org/1999/02/22-rdf-syntax-ns#\">\n",
       "   <cc:Work>\n",
       "    <dc:type rdf:resource=\"http://purl.org/dc/dcmitype/StillImage\"/>\n",
       "    <dc:date>2020-11-11T09:45:09.204023</dc:date>\n",
       "    <dc:format>image/svg+xml</dc:format>\n",
       "    <dc:creator>\n",
       "     <cc:Agent>\n",
       "      <dc:title>Matplotlib v3.3.1, https://matplotlib.org/</dc:title>\n",
       "     </cc:Agent>\n",
       "    </dc:creator>\n",
       "   </cc:Work>\n",
       "  </rdf:RDF>\n",
       " </metadata>\n",
       " <defs>\n",
       "  <style type=\"text/css\">*{stroke-linecap:butt;stroke-linejoin:round;}</style>\n",
       " </defs>\n",
       " <g id=\"figure_1\">\n",
       "  <g id=\"patch_1\">\n",
       "   <path d=\"M 0 302.4 \n",
       "L 446.4 302.4 \n",
       "L 446.4 0 \n",
       "L 0 0 \n",
       "z\n",
       "\" style=\"fill:#ffffff;\"/>\n",
       "  </g>\n",
       "  <g id=\"axes_1\">\n",
       "   <g id=\"LineCollection_1\">\n",
       "    <path clip-path=\"url(#p98ebca25ad)\" d=\"M 26.836364 170.013043 \n",
       "L 195.135875 20.290909 \n",
       "\" style=\"fill:none;stroke:#000000;\"/>\n",
       "    <path clip-path=\"url(#p98ebca25ad)\" d=\"M 26.836364 170.013043 \n",
       "L 251.264125 282.109091 \n",
       "\" style=\"fill:none;stroke:#000000;\"/>\n",
       "    <path clip-path=\"url(#p98ebca25ad)\" d=\"M 195.135875 20.290909 \n",
       "L 419.563636 132.386957 \n",
       "\" style=\"fill:none;stroke:#000000;\"/>\n",
       "    <path clip-path=\"url(#p98ebca25ad)\" d=\"M 419.563636 132.386957 \n",
       "L 251.264125 282.109091 \n",
       "\" style=\"fill:none;stroke:#000000;\"/>\n",
       "   </g>\n",
       "   <g id=\"PathCollection_1\">\n",
       "    <defs>\n",
       "     <path d=\"M 0 8.660254 \n",
       "C 2.296726 8.660254 4.499694 7.747755 6.123724 6.123724 \n",
       "C 7.747755 4.499694 8.660254 2.296726 8.660254 0 \n",
       "C 8.660254 -2.296726 7.747755 -4.499694 6.123724 -6.123724 \n",
       "C 4.499694 -7.747755 2.296726 -8.660254 0 -8.660254 \n",
       "C -2.296726 -8.660254 -4.499694 -7.747755 -6.123724 -6.123724 \n",
       "C -7.747755 -4.499694 -8.660254 -2.296726 -8.660254 0 \n",
       "C -8.660254 2.296726 -7.747755 4.499694 -6.123724 6.123724 \n",
       "C -4.499694 7.747755 -2.296726 8.660254 0 8.660254 \n",
       "z\n",
       "\" id=\"mb17f5100d7\" style=\"stroke:#1f78b4;\"/>\n",
       "    </defs>\n",
       "    <g clip-path=\"url(#p98ebca25ad)\">\n",
       "     <use style=\"fill:#1f78b4;stroke:#1f78b4;\" x=\"26.836364\" xlink:href=\"#mb17f5100d7\" y=\"170.013043\"/>\n",
       "     <use style=\"fill:#1f78b4;stroke:#1f78b4;\" x=\"195.135875\" xlink:href=\"#mb17f5100d7\" y=\"20.290909\"/>\n",
       "     <use style=\"fill:#1f78b4;stroke:#1f78b4;\" x=\"419.563636\" xlink:href=\"#mb17f5100d7\" y=\"132.386957\"/>\n",
       "     <use style=\"fill:#1f78b4;stroke:#1f78b4;\" x=\"251.264125\" xlink:href=\"#mb17f5100d7\" y=\"282.109091\"/>\n",
       "    </g>\n",
       "   </g>\n",
       "  </g>\n",
       " </g>\n",
       " <defs>\n",
       "  <clipPath id=\"p98ebca25ad\">\n",
       "   <rect height=\"288\" width=\"432\" x=\"7.2\" y=\"7.2\"/>\n",
       "  </clipPath>\n",
       " </defs>\n",
       "</svg>\n"
      ],
      "text/plain": [
       "<Figure size 432x288 with 1 Axes>"
      ]
     },
     "metadata": {},
     "output_type": "display_data"
    }
   ],
   "source": [
    "# Making a graph from edges list\n",
    "# This is a square\n",
    "G = nx.Graph([(1,2), (2,3), (3,4), (4,1)])\n",
    "nx.draw(G)"
   ]
  },
  {
   "cell_type": "code",
   "execution_count": 6,
   "metadata": {},
   "outputs": [
    {
     "data": {
      "image/png": "[encoded data removed]",
      "image/svg+xml": [
       "<?xml version=\"1.0\" encoding=\"utf-8\" standalone=\"no\"?>\n",
       "<!DOCTYPE svg PUBLIC \"-//W3C//DTD SVG 1.1//EN\"\n",
       "  \"http://www.w3.org/Graphics/SVG/1.1/DTD/svg11.dtd\">\n",
       "<!-- Created with matplotlib (https://matplotlib.org/) -->\n",
       "<svg height=\"302.4pt\" version=\"1.1\" viewBox=\"0 0 446.4 302.4\" width=\"446.4pt\" xmlns=\"http://www.w3.org/2000/svg\" xmlns:xlink=\"http://www.w3.org/1999/xlink\">\n",
       " <metadata>\n",
       "  <rdf:RDF xmlns:cc=\"http://creativecommons.org/ns#\" xmlns:dc=\"http://purl.org/dc/elements/1.1/\" xmlns:rdf=\"http://www.w3.org/1999/02/22-rdf-syntax-ns#\">\n",
       "   <cc:Work>\n",
       "    <dc:type rdf:resource=\"http://purl.org/dc/dcmitype/StillImage\"/>\n",
       "    <dc:date>2020-11-11T09:46:11.827837</dc:date>\n",
       "    <dc:format>image/svg+xml</dc:format>\n",
       "    <dc:creator>\n",
       "     <cc:Agent>\n",
       "      <dc:title>Matplotlib v3.3.1, https://matplotlib.org/</dc:title>\n",
       "     </cc:Agent>\n",
       "    </dc:creator>\n",
       "   </cc:Work>\n",
       "  </rdf:RDF>\n",
       " </metadata>\n",
       " <defs>\n",
       "  <style type=\"text/css\">*{stroke-linecap:butt;stroke-linejoin:round;}</style>\n",
       " </defs>\n",
       " <g id=\"figure_1\">\n",
       "  <g id=\"patch_1\">\n",
       "   <path d=\"M 0 302.4 \n",
       "L 446.4 302.4 \n",
       "L 446.4 0 \n",
       "L 0 0 \n",
       "z\n",
       "\" style=\"fill:#ffffff;\"/>\n",
       "  </g>\n",
       "  <g id=\"axes_1\">\n",
       "   <g id=\"LineCollection_1\">\n",
       "    <path clip-path=\"url(#p93575351a9)\" d=\"M 26.836364 145.5062 \n",
       "L 225.129008 20.290909 \n",
       "\" style=\"fill:none;stroke:#000000;\"/>\n",
       "    <path clip-path=\"url(#p93575351a9)\" d=\"M 26.836364 145.5062 \n",
       "L 221.574347 282.109091 \n",
       "\" style=\"fill:none;stroke:#000000;\"/>\n",
       "    <path clip-path=\"url(#p93575351a9)\" d=\"M 225.129008 20.290909 \n",
       "L 419.563636 156.990895 \n",
       "\" style=\"fill:none;stroke:#000000;\"/>\n",
       "    <path clip-path=\"url(#p93575351a9)\" d=\"M 225.129008 20.290909 \n",
       "L 221.574347 282.109091 \n",
       "\" style=\"fill:none;stroke:#000000;\"/>\n",
       "    <path clip-path=\"url(#p93575351a9)\" d=\"M 419.563636 156.990895 \n",
       "L 221.574347 282.109091 \n",
       "\" style=\"fill:none;stroke:#000000;\"/>\n",
       "   </g>\n",
       "   <g id=\"PathCollection_1\">\n",
       "    <defs>\n",
       "     <path d=\"M 0 8.660254 \n",
       "C 2.296726 8.660254 4.499694 7.747755 6.123724 6.123724 \n",
       "C 7.747755 4.499694 8.660254 2.296726 8.660254 0 \n",
       "C 8.660254 -2.296726 7.747755 -4.499694 6.123724 -6.123724 \n",
       "C 4.499694 -7.747755 2.296726 -8.660254 0 -8.660254 \n",
       "C -2.296726 -8.660254 -4.499694 -7.747755 -6.123724 -6.123724 \n",
       "C -7.747755 -4.499694 -8.660254 -2.296726 -8.660254 0 \n",
       "C -8.660254 2.296726 -7.747755 4.499694 -6.123724 6.123724 \n",
       "C -4.499694 7.747755 -2.296726 8.660254 0 8.660254 \n",
       "z\n",
       "\" id=\"m13f3db89ec\" style=\"stroke:#1f78b4;\"/>\n",
       "    </defs>\n",
       "    <g clip-path=\"url(#p93575351a9)\">\n",
       "     <use style=\"fill:#1f78b4;stroke:#1f78b4;\" x=\"26.836364\" xlink:href=\"#m13f3db89ec\" y=\"145.5062\"/>\n",
       "     <use style=\"fill:#1f78b4;stroke:#1f78b4;\" x=\"225.129008\" xlink:href=\"#m13f3db89ec\" y=\"20.290909\"/>\n",
       "     <use style=\"fill:#1f78b4;stroke:#1f78b4;\" x=\"419.563636\" xlink:href=\"#m13f3db89ec\" y=\"156.990895\"/>\n",
       "     <use style=\"fill:#1f78b4;stroke:#1f78b4;\" x=\"221.574347\" xlink:href=\"#m13f3db89ec\" y=\"282.109091\"/>\n",
       "    </g>\n",
       "   </g>\n",
       "  </g>\n",
       " </g>\n",
       " <defs>\n",
       "  <clipPath id=\"p93575351a9\">\n",
       "   <rect height=\"288\" width=\"432\" x=\"7.2\" y=\"7.2\"/>\n",
       "  </clipPath>\n",
       " </defs>\n",
       "</svg>\n"
      ],
      "text/plain": [
       "<Figure size 432x288 with 1 Axes>"
      ]
     },
     "metadata": {},
     "output_type": "display_data"
    }
   ],
   "source": [
    "# Add a diagonal edge\n",
    "G.add_edge(2, 4)\n",
    "nx.draw(G)"
   ]
  },
  {
   "cell_type": "code",
   "execution_count": 7,
   "metadata": {},
   "outputs": [
    {
     "data": {
      "image/png": "[encoded data removed]",
      "image/svg+xml": [
       "<?xml version=\"1.0\" encoding=\"utf-8\" standalone=\"no\"?>\n",
       "<!DOCTYPE svg PUBLIC \"-//W3C//DTD SVG 1.1//EN\"\n",
       "  \"http://www.w3.org/Graphics/SVG/1.1/DTD/svg11.dtd\">\n",
       "<!-- Created with matplotlib (https://matplotlib.org/) -->\n",
       "<svg height=\"302.4pt\" version=\"1.1\" viewBox=\"0 0 446.4 302.4\" width=\"446.4pt\" xmlns=\"http://www.w3.org/2000/svg\" xmlns:xlink=\"http://www.w3.org/1999/xlink\">\n",
       " <metadata>\n",
       "  <rdf:RDF xmlns:cc=\"http://creativecommons.org/ns#\" xmlns:dc=\"http://purl.org/dc/elements/1.1/\" xmlns:rdf=\"http://www.w3.org/1999/02/22-rdf-syntax-ns#\">\n",
       "   <cc:Work>\n",
       "    <dc:type rdf:resource=\"http://purl.org/dc/dcmitype/StillImage\"/>\n",
       "    <dc:date>2020-11-11T09:46:39.250746</dc:date>\n",
       "    <dc:format>image/svg+xml</dc:format>\n",
       "    <dc:creator>\n",
       "     <cc:Agent>\n",
       "      <dc:title>Matplotlib v3.3.1, https://matplotlib.org/</dc:title>\n",
       "     </cc:Agent>\n",
       "    </dc:creator>\n",
       "   </cc:Work>\n",
       "  </rdf:RDF>\n",
       " </metadata>\n",
       " <defs>\n",
       "  <style type=\"text/css\">*{stroke-linecap:butt;stroke-linejoin:round;}</style>\n",
       " </defs>\n",
       " <g id=\"figure_1\">\n",
       "  <g id=\"patch_1\">\n",
       "   <path d=\"M 0 302.4 \n",
       "L 446.4 302.4 \n",
       "L 446.4 0 \n",
       "L 0 0 \n",
       "z\n",
       "\" style=\"fill:#ffffff;\"/>\n",
       "  </g>\n",
       "  <g id=\"axes_1\">\n",
       "   <g id=\"LineCollection_1\">\n",
       "    <path clip-path=\"url(#pd113f91d98)\" d=\"M 173.940823 118.37067 \n",
       "L 204.50149 221.599752 \n",
       "\" style=\"fill:none;stroke:#000000;\"/>\n",
       "    <path clip-path=\"url(#pd113f91d98)\" d=\"M 173.940823 118.37067 \n",
       "L 406.559587 190.58905 \n",
       "\" style=\"fill:none;stroke:#000000;\"/>\n",
       "    <path clip-path=\"url(#pd113f91d98)\" d=\"M 173.940823 118.37067 \n",
       "L 26.836364 20.290909 \n",
       "\" style=\"fill:none;stroke:#000000;\"/>\n",
       "    <path clip-path=\"url(#pd113f91d98)\" d=\"M 204.50149 221.599752 \n",
       "L 419.563636 282.109091 \n",
       "\" style=\"fill:none;stroke:#000000;\"/>\n",
       "    <path clip-path=\"url(#pd113f91d98)\" d=\"M 204.50149 221.599752 \n",
       "L 406.559587 190.58905 \n",
       "\" style=\"fill:none;stroke:#000000;\"/>\n",
       "    <path clip-path=\"url(#pd113f91d98)\" d=\"M 419.563636 282.109091 \n",
       "L 406.559587 190.58905 \n",
       "\" style=\"fill:none;stroke:#000000;\"/>\n",
       "   </g>\n",
       "   <g id=\"PathCollection_1\">\n",
       "    <defs>\n",
       "     <path d=\"M 0 8.660254 \n",
       "C 2.296726 8.660254 4.499694 7.747755 6.123724 6.123724 \n",
       "C 7.747755 4.499694 8.660254 2.296726 8.660254 0 \n",
       "C 8.660254 -2.296726 7.747755 -4.499694 6.123724 -6.123724 \n",
       "C 4.499694 -7.747755 2.296726 -8.660254 0 -8.660254 \n",
       "C -2.296726 -8.660254 -4.499694 -7.747755 -6.123724 -6.123724 \n",
       "C -7.747755 -4.499694 -8.660254 -2.296726 -8.660254 0 \n",
       "C -8.660254 2.296726 -7.747755 4.499694 -6.123724 6.123724 \n",
       "C -4.499694 7.747755 -2.296726 8.660254 0 8.660254 \n",
       "z\n",
       "\" id=\"mc0e3fa4402\" style=\"stroke:#1f78b4;\"/>\n",
       "    </defs>\n",
       "    <g clip-path=\"url(#pd113f91d98)\">\n",
       "     <use style=\"fill:#1f78b4;stroke:#1f78b4;\" x=\"173.940823\" xlink:href=\"#mc0e3fa4402\" y=\"118.37067\"/>\n",
       "     <use style=\"fill:#1f78b4;stroke:#1f78b4;\" x=\"204.50149\" xlink:href=\"#mc0e3fa4402\" y=\"221.599752\"/>\n",
       "     <use style=\"fill:#1f78b4;stroke:#1f78b4;\" x=\"419.563636\" xlink:href=\"#mc0e3fa4402\" y=\"282.109091\"/>\n",
       "     <use style=\"fill:#1f78b4;stroke:#1f78b4;\" x=\"406.559587\" xlink:href=\"#mc0e3fa4402\" y=\"190.58905\"/>\n",
       "     <use style=\"fill:#1f78b4;stroke:#1f78b4;\" x=\"26.836364\" xlink:href=\"#mc0e3fa4402\" y=\"20.290909\"/>\n",
       "    </g>\n",
       "   </g>\n",
       "  </g>\n",
       " </g>\n",
       " <defs>\n",
       "  <clipPath id=\"pd113f91d98\">\n",
       "   <rect height=\"288\" width=\"432\" x=\"7.2\" y=\"7.2\"/>\n",
       "  </clipPath>\n",
       " </defs>\n",
       "</svg>\n"
      ],
      "text/plain": [
       "<Figure size 432x288 with 1 Axes>"
      ]
     },
     "metadata": {},
     "output_type": "display_data"
    }
   ],
   "source": [
    "# Add a 5th node and an edge\n",
    "G.add_node(5)\n",
    "G.add_edge(5, 1)\n",
    "nx.draw(G)"
   ]
  },
  {
   "cell_type": "code",
   "execution_count": 23,
   "metadata": {
    "colab": {
     "base_uri": "https://localhost:8080/",
     "height": 319
    },
    "colab_type": "code",
    "executionInfo": {
     "elapsed": 1022,
     "status": "ok",
     "timestamp": 1595901624047,
     "user": {
      "displayName": "Matthieu Ranger",
      "photoUrl": "",
      "userId": "05160963434497794589"
     },
     "user_tz": 240
    },
    "id": "WLwVMVjzDTyp",
    "outputId": "3d355900-56a0-43d8-ceb4-4dd0012b9fe9"
   },
   "outputs": [
    {
     "data": {
      "image/png": "[encoded data removed]",
      "text/plain": [
       "<Figure size 432x288 with 1 Axes>"
      ]
     },
     "metadata": {
      "tags": []
     },
     "output_type": "display_data"
    }
   ],
   "source": [
    "G = nx.binomial_graph(10, 0.3, directed=True)\n",
    "nx.draw(G)"
   ]
  },
  {
   "cell_type": "markdown",
   "metadata": {
    "colab_type": "text",
    "id": "rdfnZ5r8a3fl"
   },
   "source": [
    "In NetworkX, we access a node by its **Node ID** (normally a number, but can be anything). This is used with the `[]` bracket operator, like lists or dicts:"
   ]
  },
  {
   "cell_type": "code",
   "execution_count": 32,
   "metadata": {
    "colab": {
     "base_uri": "https://localhost:8080/",
     "height": 34
    },
    "colab_type": "code",
    "executionInfo": {
     "elapsed": 461,
     "status": "ok",
     "timestamp": 1595906256794,
     "user": {
      "displayName": "Matthieu Ranger",
      "photoUrl": "",
      "userId": "05160963434497794589"
     },
     "user_tz": 240
    },
    "id": "l0Y3YXbDa3oS",
    "outputId": "7270cec3-5d66-49db-ff80-1e89a1d387d4"
   },
   "outputs": [
    {
     "data": {
      "text/plain": [
       "AtlasView({2: {}, 4: {}, 6: {}, 9: {}})"
      ]
     },
     "execution_count": 32,
     "metadata": {
      "tags": []
     },
     "output_type": "execute_result"
    }
   ],
   "source": [
    "G[3]"
   ]
  },
  {
   "cell_type": "markdown",
   "metadata": {
    "colab_type": "text",
    "id": "BX2LPaO_bWuZ"
   },
   "source": [
    "### Edge List representation\n",
    "\n",
    "The edge list is a simple way to represent a graph as a list of $(source, destination)$ tuples\n",
    "\n",
    "We can also view the **edge list** directly:"
   ]
  },
  {
   "cell_type": "code",
   "execution_count": 33,
   "metadata": {
    "colab": {
     "base_uri": "https://localhost:8080/",
     "height": 54
    },
    "colab_type": "code",
    "executionInfo": {
     "elapsed": 515,
     "status": "ok",
     "timestamp": 1595906293063,
     "user": {
      "displayName": "Matthieu Ranger",
      "photoUrl": "",
      "userId": "05160963434497794589"
     },
     "user_tz": 240
    },
    "id": "9oNLTNm7bW4-",
    "outputId": "a1fd10ac-2998-4c84-b06d-c5574f7d5389"
   },
   "outputs": [
    {
     "data": {
      "text/plain": [
       "OutEdgeView([(0, 1), (0, 4), (0, 5), (0, 8), (1, 0), (1, 3), (1, 4), (1, 5), (2, 1), (2, 3), (2, 7), (2, 8), (3, 2), (3, 4), (3, 6), (3, 9), (4, 7), (4, 9), (5, 1), (5, 7), (5, 9), (6, 0), (6, 1), (6, 3), (6, 4), (7, 2), (7, 5), (7, 6), (7, 9), (8, 0), (9, 1), (9, 2), (9, 3), (9, 5)])"
      ]
     },
     "execution_count": 33,
     "metadata": {
      "tags": []
     },
     "output_type": "execute_result"
    }
   ],
   "source": [
    "G.edges"
   ]
  },
  {
   "cell_type": "markdown",
   "metadata": {
    "colab_type": "text",
    "id": "DCITYntbJlIo"
   },
   "source": [
    "\n",
    "\n",
    "### Adjacency Matrix representation\n",
    "\n",
    "A common way to represent a graph is with an [adjacency matrix](https://en.wikipedia.org/wiki/Adjacency_matrix) -- a matrix where each row and each column represent a node, and the entry is 0 if there's no edge and 1 if there is an edge:\n",
    "\n"
   ]
  },
  {
   "cell_type": "code",
   "execution_count": 24,
   "metadata": {
    "colab": {
     "base_uri": "https://localhost:8080/",
     "height": 191
    },
    "colab_type": "code",
    "executionInfo": {
     "elapsed": 1171,
     "status": "ok",
     "timestamp": 1595901625970,
     "user": {
      "displayName": "Matthieu Ranger",
      "photoUrl": "",
      "userId": "05160963434497794589"
     },
     "user_tz": 240
    },
    "id": "bMaaZ8rXBeMn",
    "outputId": "f7e9e591-c081-4788-bfa9-cc7b5a9173a7"
   },
   "outputs": [
    {
     "data": {
      "text/plain": [
       "matrix([[0, 1, 0, 0, 1, 1, 0, 0, 1, 0],\n",
       "        [1, 0, 0, 1, 1, 1, 0, 0, 0, 0],\n",
       "        [0, 1, 0, 1, 0, 0, 0, 1, 1, 0],\n",
       "        [0, 0, 1, 0, 1, 0, 1, 0, 0, 1],\n",
       "        [0, 0, 0, 0, 0, 0, 0, 1, 0, 1],\n",
       "        [0, 1, 0, 0, 0, 0, 0, 1, 0, 1],\n",
       "        [1, 1, 0, 1, 1, 0, 0, 0, 0, 0],\n",
       "        [0, 0, 1, 0, 0, 1, 1, 0, 0, 1],\n",
       "        [1, 0, 0, 0, 0, 0, 0, 0, 0, 0],\n",
       "        [0, 1, 1, 1, 0, 1, 0, 0, 0, 0]], dtype=int64)"
      ]
     },
     "execution_count": 24,
     "metadata": {
      "tags": []
     },
     "output_type": "execute_result"
    }
   ],
   "source": [
    "import numpy as np\n",
    "\n",
    "nx.adjacency_matrix(G).todense()"
   ]
  },
  {
   "cell_type": "markdown",
   "metadata": {
    "colab_type": "text",
    "id": "WQjR7kUMJqgr"
   },
   "source": [
    "(if the edges had weights, the $1$ entries would be replaced with the edge weight instead)\n",
    "\n",
    "Note that adjacency matrices, though they represent a graph, are valid matrices so all of [linear algebra](https://en.wikipedia.org/wiki/Linear_algebra) (which we'll go over later on) is valid.\n",
    "\n",
    "For instance, one aspect of matrices which is important is the [eigenvalues](https://en.wikipedia.org/wiki/Eigenvalues_and_eigenvectors) and the eigenvalues of a graph's matrix is a topic which is heavily studied."
   ]
  },
  {
   "cell_type": "markdown",
   "metadata": {
    "colab_type": "text",
    "id": "Q-c8wNzTKuE4"
   },
   "source": [
    "# Graph search\n",
    "\n",
    "Our first hands-on application on graphs will be to implement some simple [graph traversal](https://en.wikipedia.org/wiki/Graph_traversal) algorithms. \n",
    "\n",
    "The two basic search algorithms are [Breadth-first search](https://en.wikipedia.org/wiki/Breadth-first_search) (BFS) and [depth-first search](https://en.wikipedia.org/wiki/Depth-first_search) (DFS).\n",
    "\n",
    "Graph traversal can be used for lots of things:\n",
    "\n",
    "- Discover if a graph is connected or not (eg. if you can always get from one node to another)\n",
    "\n",
    "- Generate driving directions (eg. find the optimal path from A to B)\n",
    "\n",
    "- Compute clusters or connected components on a graph\n",
    "\n",
    "To learn BFS, we first have to learn about queues.\n",
    "\n",
    "### The queue and data structures\n",
    "\n",
    "The queue is our first encounter with what computer scientists call a **data structure**. \n",
    "\n",
    "A [data structure](https://en.wikipedia.org/wiki/Data_structure) is a logical way to organize and operate on data. You can think of it in terms of a python `class`, but you don't have to wrap a data structure into a class for it to work as intended.\n",
    "\n",
    "The **queue** acts like a list, but has one main rule called **First-in-First-out**. This means the following rules:\n",
    "\n",
    "- You can only ever add data to a queue one object at a time\n",
    "\n",
    "- If you remove an object it has to be the one at the front of the queue (the one added the earliest)\n",
    "\n",
    "Lists be represented with `list.pop(0)` in python.\n"
   ]
  },
  {
   "cell_type": "code",
   "execution_count": 1,
   "metadata": {
    "colab": {},
    "colab_type": "code",
    "id": "cSG9j6n5c3T-"
   },
   "outputs": [],
   "source": [
    "#### Exercise (5min): Make a Queue class\n",
    "#### It should subclass the **list** object\n",
    "### have two methods -- add(node) -- remove()\n",
    "\n",
    "\n",
    "\n",
    "### Solution\n",
    "class Queue(list):\n",
    "  def add(node):\n",
    "    self.append(node)\n",
    "\n",
    "  def remove():\n",
    "    self.pop(0)"
   ]
  },
  {
   "cell_type": "markdown",
   "metadata": {
    "colab_type": "text",
    "id": "CJ4L6uRQc2LY"
   },
   "source": [
    "## Breadth-First Search\n",
    "\n",
    "BFS explores the graph in \"layers\" around the node where we start the search. It first looks at all nodes 1 level away from the start node, then all nodes 2 levels away, etc. until we find all connected nodes to the starting node or ask it to stop.\n",
    "\n",
    "Here is the **BFS pseudocode**\n",
    "\n",
    "```\n",
    "let L be a list of explored nodes\n",
    "Mark the origin node S as explored\n",
    "Let Q be a queue initialized with S\n",
    "While Q is not empty:\n",
    "  remove first node of Q, call it V\n",
    "  for each edge (v, w):\n",
    "    if w is not explored:\n",
    "      mark w as explored\n",
    "      add w to the end of Q\n",
    "```"
   ]
  },
  {
   "cell_type": "code",
   "execution_count": null,
   "metadata": {
    "colab": {},
    "colab_type": "code",
    "id": "Z1l-hwEeaJF_"
   },
   "outputs": [],
   "source": [
    "### Exercise: implement BFS (25-40 min)\n",
    "###    You don't have to use the queue class\n",
    "\n",
    "\n",
    "### Solution:\n",
    "def bfs(graph, start):\n",
    "    visited = set()\n",
    "    queue = [start]\n",
    "    while queue:\n",
    "        vertex = queue.pop(0)\n",
    "        if vertex not in visited:\n",
    "            visited.add(vertex)\n",
    "            queue.extend(graph[vertex] - visited)\n",
    "    return visited"
   ]
  },
  {
   "cell_type": "markdown",
   "metadata": {
    "colab_type": "text",
    "id": "7hCsCWIweuEH"
   },
   "source": [
    "https://eddmann.com/posts/depth-first-search-and-breadth-first-search-in-python/"
   ]
  },
  {
   "cell_type": "markdown",
   "metadata": {
    "colab_type": "text",
    "id": "Ckbf6rhHaJuv"
   },
   "source": [
    "# Depth-First Search\n",
    "\n",
    "DFS is the opposite of BFS. It picks an edge from the origin node, then descends as deeply as possible down that path until it gets blocked. Then it backtracks to the second edge connected to our original node and does the same.\n",
    "\n",
    "### Stack data structure\n",
    "\n",
    "The stack is the inverse of the Queue data structure, it's a **Last-In-First-Out** model. So when removing from a stack, we remove the most recently added element instead."
   ]
  },
  {
   "cell_type": "code",
   "execution_count": 35,
   "metadata": {
    "colab": {},
    "colab_type": "code",
    "executionInfo": {
     "elapsed": 1110,
     "status": "ok",
     "timestamp": 1595907169289,
     "user": {
      "displayName": "Matthieu Ranger",
      "photoUrl": "",
      "userId": "05160963434497794589"
     },
     "user_tz": 240
    },
    "id": "T63p1JhYJSGA"
   },
   "outputs": [],
   "source": [
    "### Exercise: implement DFS (25-40 min)\n",
    "\n",
    "### Solution:\n",
    "def dfs(graph, start):\n",
    "    visited = set()\n",
    "    stack = [start]\n",
    "    while stack:\n",
    "        vertex = stack.pop()\n",
    "        if vertex not in visited:\n",
    "            visited.add(vertex)\n",
    "            stack.extend(graph[vertex] - visited)\n",
    "    return visited"
   ]
  },
  {
   "cell_type": "code",
   "execution_count": null,
   "metadata": {
    "colab": {},
    "colab_type": "code",
    "id": "ac4GtNkretdb"
   },
   "outputs": [],
   "source": []
  }
 ],
 "metadata": {
  "colab": {
   "authorship_tag": "ABX9TyM5a667MCzQ9GjFvia/Z87I",
   "collapsed_sections": [],
   "name": "Intro to Graphs.ipynb",
   "provenance": []
  },
  "kernelspec": {
   "display_name": "Python 3",
   "language": "python",
   "name": "python3"
  },
  "language_info": {
   "codemirror_mode": {
    "name": "ipython",
    "version": 3
   },
   "file_extension": ".py",
   "mimetype": "text/x-python",
   "name": "python",
   "nbconvert_exporter": "python",
   "pygments_lexer": "ipython3",
   "version": "3.8.3"
  }
 },
 "nbformat": 4,
 "nbformat_minor": 1
}

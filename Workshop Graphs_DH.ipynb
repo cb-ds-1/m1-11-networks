{
 "cells": [
  {
   "cell_type": "markdown",
   "metadata": {},
   "source": [
    "Dylan Hastings"
   ]
  },
  {
   "cell_type": "markdown",
   "metadata": {},
   "source": [
    "# Exercise 1: Graph Making\n",
    "\n",
    "Write a function called make_simple_graph that returns the graph object that represents the following diagram:\n",
    "\n",
    "![](exercise2.png)"
   ]
  },
  {
   "cell_type": "code",
   "execution_count": 1,
   "metadata": {},
   "outputs": [],
   "source": [
    "import networkx as nx"
   ]
  },
  {
   "cell_type": "code",
   "execution_count": 5,
   "metadata": {},
   "outputs": [],
   "source": [
    "def make_simple_graph():\n",
    "    '''\n",
    "    This function returns a simple graph object\n",
    "    that represents the diagram above.\n",
    "    '''\n",
    "    \n",
    "    return nx.Graph([('A', 'C'), ('A', 'D'), ('A', 'E'),\n",
    "                     ('B', 'D'), ('C', 'E'), ('D', 'E')])"
   ]
  },
  {
   "cell_type": "code",
   "execution_count": 6,
   "metadata": {},
   "outputs": [],
   "source": [
    "G = make_simple_graph()"
   ]
  },
  {
   "cell_type": "code",
   "execution_count": 10,
   "metadata": {
    "scrolled": true
   },
   "outputs": [
    {
     "data": {
      "image/png": "[encoded data removed]",
      "text/plain": [
       "<Figure size 432x288 with 1 Axes>"
      ]
     },
     "metadata": {},
     "output_type": "display_data"
    }
   ],
   "source": [
    "nx.draw(G, with_labels = 'true', node_color = 'red', edgecolors = 'black')"
   ]
  },
  {
   "cell_type": "markdown",
   "metadata": {},
   "source": [
    "## Exercise 1.2: computing diameter and node degrees of graphs\n",
    "\n",
    "For the graph made by your function in the previous exercise, calculate the diameter and the degrees of each node, and visually confirm those values by inspecting the above graph. Write a function `compute_diameter_and_degrees` which takes a networkx graph object as input, and returns a `dict` with the diameter and the degrees of all the nodes in the graph.\n",
    "\n",
    "**NOTE:** You cannot use a networkx function or method to compute the diameter or degrees. They have to be calculated yourself\n",
    "\n",
    "```\n",
    "\n",
    "compute_diameter_and_degrees(G) -> {\n",
    "    'diameter': 3,\n",
    "    'degree_A': 3,\n",
    "    'degree_B': 1,\n",
    "    'degree_C': 2,\n",
    "    'degree_D': 3,\n",
    "    'degree_E': 3,\n",
    "}"
   ]
  },
  {
   "cell_type": "code",
   "execution_count": 7,
   "metadata": {},
   "outputs": [],
   "source": [
    "def compute_diamter_and_degrees(graph):\n",
    "    '''\n",
    "    This function takes a NetworkX graph as input,\n",
    "    and returns a dict with the diameter of all\n",
    "    the nodes in the graph.\n",
    "    '''\n",
    "    shortest_path = []\n",
    "    degrees = {}\n",
    "    \n",
    "    nodes = set(graph.nodes())\n",
    "    \n",
    "    for source in nodes:\n",
    "        for destination in nodes:\n",
    "            temp = nx.shortest_path(graph, source, destination)\n",
    "            if len(temp) > len(shortest_path):\n",
    "                shortest_path = temp\n",
    "    \n",
    "    #subtract 1 from the set of nodes to get the diameter\n",
    "    degrees['diameter'] = len(shortest_path) - 1\n",
    "    \n",
    "    for node in nodes:\n",
    "        degrees['degree_' + node] = len(graph.adj[node])\n",
    "    \n",
    "    return degrees"
   ]
  },
  {
   "cell_type": "code",
   "execution_count": 8,
   "metadata": {},
   "outputs": [
    {
     "data": {
      "text/plain": [
       "{'diameter': 3,\n",
       " 'degree_B': 1,\n",
       " 'degree_D': 3,\n",
       " 'degree_E': 3,\n",
       " 'degree_A': 3,\n",
       " 'degree_C': 2}"
      ]
     },
     "execution_count": 8,
     "metadata": {},
     "output_type": "execute_result"
    }
   ],
   "source": [
    "compute_diamter_and_degrees(G)"
   ]
  },
  {
   "cell_type": "markdown",
   "metadata": {},
   "source": [
    "## Exercise 1.3: An airline route map graph\n",
    "\n",
    "CBDS Airlines has the following route map for the cities that it services, where every pair of cities has service in both directions between the cities:\n",
    "\n",
    "```\n",
    "routemap =  [('St. Louis', 'Miami'), ('St. Louis', 'San Diego'), ('St. Louis', 'Chicago'), ('San Diego', 'Chicago'), ('San Diego', 'San Francisco'), ('San Diego', 'Minneapolis'), ('San Diego', 'Boston'), ('San Diego', 'Portland'), ('San Diego', 'Seattle'), ('Tulsa', 'New York'), ('Tulsa', 'Dallas'), ('Phoenix', 'Cleveland'), ('Phoenix', 'Denver'), ('Phoenix', 'Dallas'), ('Chicago', 'New York'), ('Chicago', 'Los Angeles'), ('Miami', 'New York'), ('Miami', 'Philadelphia'), ('Miami', 'Denver'), ('Boston', 'Atlanta'), ('Dallas', 'Cleveland'), ('Dallas', 'Albuquerque'), ('Philadelphia', 'Atlanta'), ('Denver', 'Minneapolis'), ('Denver', 'Cleveland'), ('Albuquerque', 'Atlanta'), ('Minneapolis', 'Portland'), ('Los Angeles', 'Seattle'), ('San Francisco', 'Portland'), ('San Francisco', 'Seattle'), ('San Francisco', 'Cleveland'), ('Seattle', 'Portland')]\n",
    "\n",
    "```\n",
    "\n",
    "Copy this data into a networkX graph to answer the question.\n",
    "\n",
    "1. What is the maximum number of hops that would ever be taken by a passenger on a single trip between any two serviced cities?"
   ]
  },
  {
   "cell_type": "code",
   "execution_count": 14,
   "metadata": {},
   "outputs": [],
   "source": [
    "routemap =  nx.Graph([('St. Louis', 'Miami'), ('St. Louis', 'San Diego'), ('St. Louis', 'Chicago'), ('San Diego', 'Chicago'),\n",
    "                      ('San Diego', 'San Francisco'), ('San Diego', 'Minneapolis'), ('San Diego', 'Boston'),\n",
    "                      ('San Diego', 'Portland'), ('San Diego', 'Seattle'), ('Tulsa', 'New York'), ('Tulsa', 'Dallas'),\n",
    "                      ('Phoenix', 'Cleveland'), ('Phoenix', 'Denver'), ('Phoenix', 'Dallas'), ('Chicago', 'New York'),\n",
    "                      ('Chicago', 'Los Angeles'), ('Miami', 'New York'), ('Miami', 'Philadelphia'), ('Miami', 'Denver'),\n",
    "                      ('Boston', 'Atlanta'), ('Dallas', 'Cleveland'), ('Dallas', 'Albuquerque'), ('Philadelphia', 'Atlanta'),\n",
    "                      ('Denver', 'Minneapolis'), ('Denver', 'Cleveland'), ('Albuquerque', 'Atlanta'),\n",
    "                      ('Minneapolis', 'Portland'), ('Los Angeles', 'Seattle'), ('San Francisco', 'Portland'),\n",
    "                      ('San Francisco', 'Seattle'), ('San Francisco', 'Cleveland'), ('Seattle', 'Portland')])"
   ]
  },
  {
   "cell_type": "code",
   "execution_count": 26,
   "metadata": {},
   "outputs": [
    {
     "data": {
      "text/plain": [
       "{'diameter': 5,\n",
       " 'degree_Miami': 4,\n",
       " 'degree_New York': 3,\n",
       " 'degree_St. Louis': 3,\n",
       " 'degree_Portland': 4,\n",
       " 'degree_San Diego': 7,\n",
       " 'degree_Dallas': 4,\n",
       " 'degree_Boston': 2,\n",
       " 'degree_Los Angeles': 2,\n",
       " 'degree_Minneapolis': 3,\n",
       " 'degree_San Francisco': 4,\n",
       " 'degree_Cleveland': 4,\n",
       " 'degree_Chicago': 4,\n",
       " 'degree_Tulsa': 2,\n",
       " 'degree_Philadelphia': 2,\n",
       " 'degree_Atlanta': 3,\n",
       " 'degree_Albuquerque': 2,\n",
       " 'degree_Seattle': 4,\n",
       " 'degree_Denver': 4,\n",
       " 'degree_Phoenix': 3}"
      ]
     },
     "execution_count": 26,
     "metadata": {},
     "output_type": "execute_result"
    }
   ],
   "source": [
    "compute_diamter_and_degrees(routemap)"
   ]
  },
  {
   "cell_type": "markdown",
   "metadata": {},
   "source": [
    "Since the diameter for this network is 5, the maximum number of hops is 6."
   ]
  },
  {
   "cell_type": "markdown",
   "metadata": {},
   "source": [
    "2. If you were a rich jet-setter traveling everywhere in across the country and were constrained to fly CBDS, which city would be the most optimal place for you to live, to minimize the number of hops you would have to make on average as you jet from home to your latest vacation spot?"
   ]
  },
  {
   "cell_type": "markdown",
   "metadata": {},
   "source": [
    "Since there are 7 cities that fly through San Diego, this would be the most optimal place to live."
   ]
  },
  {
   "cell_type": "markdown",
   "metadata": {
    "colab_type": "text",
    "id": "J584qJB9M8uE"
   },
   "source": [
    "# Exercise 2\n",
    "\n",
    "Make an algorithm to generate [random walks](https://en.wikipedia.org/wiki/Random_walk) on a NetworkX graphs.\n",
    "\n",
    "The form is `random_walk(G, nodeid, length)` so the input should be a graph, node ID and the number of steps to take in the random walk. The output is a list of node IDs in the walks\n",
    "\n",
    "```\n",
    "\n",
    "G = nx.binomial_graph(25, 0.3, directed=True)\n",
    "\n",
    "# this output is random\n",
    "# don't try to reproduce it exactly\n",
    "random_walk(G, 3, 5) -> [3, 1, 4, 2, 3]\n",
    "```\n"
   ]
  },
  {
   "cell_type": "code",
   "execution_count": 16,
   "metadata": {},
   "outputs": [],
   "source": [
    "import random"
   ]
  },
  {
   "cell_type": "code",
   "execution_count": 124,
   "metadata": {},
   "outputs": [],
   "source": [
    "def random_walk(G, nodeid, length):\n",
    "    '''\n",
    "    This function generates random walks on a NetworkX graph.\n",
    "    '''\n",
    "    walk = [nodeid]\n",
    "    \n",
    "    #subtract 1 since walk already includes nodeid\n",
    "    for i in range(length-1):\n",
    "        successors = list(G.successors(nodeid))\n",
    "        random.shuffle(successors)\n",
    "        nodeid = successors[0]\n",
    "        walk.append(nodeid)\n",
    "        \n",
    "    return walk"
   ]
  },
  {
   "cell_type": "code",
   "execution_count": 116,
   "metadata": {},
   "outputs": [],
   "source": [
    "G = nx.binomial_graph(25, 0.3, directed=True)"
   ]
  },
  {
   "cell_type": "code",
   "execution_count": 117,
   "metadata": {},
   "outputs": [
    {
     "data": {
      "text/plain": [
       "[3, 4, 2, 13, 12]"
      ]
     },
     "execution_count": 117,
     "metadata": {},
     "output_type": "execute_result"
    }
   ],
   "source": [
    "random_walk(G, 3, 5)"
   ]
  },
  {
   "cell_type": "markdown",
   "metadata": {},
   "source": [
    "## Exercise 2.2\n",
    "\n",
    "Modify your random walk algorithm so that:\n",
    "\n",
    "- It takes in on a weighed graph's adjacency matrix (a numpy matrix). \n",
    "\n",
    "- The probability to go from node A to node B should be proportional to the weight on their edge (relative to the other edges starting at node A).\n",
    "\n",
    "Example:\n",
    "```\n",
    "G = np.array([\n",
    "    [0, 0.5, 0, 0.5],\n",
    "    [0.5, 0, 0, 0.5],\n",
    "    [0.25, 0.25, 0.25, 0.25],\n",
    "    [0.5, 0.5, 0, 0],\n",
    "])\n",
    "\n",
    "random_walk(G, 0, 4) -> [0, 1, 0, 3]\n",
    "```\n",
    "\n",
    "Here, `node 0` would give us 50% chance to transition to `node 1` and 50% chance to transition to `node 3`.\n",
    "\n",
    "Then `node 1` would give us 50% chance to transition to `node 0` and 50% to `node 3`, etc."
   ]
  },
  {
   "cell_type": "code",
   "execution_count": 12,
   "metadata": {},
   "outputs": [],
   "source": [
    "import numpy as np"
   ]
  },
  {
   "cell_type": "code",
   "execution_count": 46,
   "metadata": {},
   "outputs": [],
   "source": [
    "def random_walk(G, nodeid, length):\n",
    "    '''\n",
    "    This function generates random walks on a NetworkX graph\n",
    "    by taking in a weighted graph's adjacency matrix.\n",
    "    '''\n",
    "    walk = [nodeid]\n",
    "    \n",
    "    #populate successors with the number of columns of G\n",
    "    successors = range(0, G.shape[1])        \n",
    "    \n",
    "    for i in range(length-1):\n",
    "        #random.choices returns a list, but an int is required\n",
    "        results = random.choices(successors, weights = list(G[nodeid]))\n",
    "        next_step = results[0]\n",
    "        walk.append(next_step)\n",
    "        nodeid = next_step\n",
    "        \n",
    "    return walk"
   ]
  },
  {
   "cell_type": "code",
   "execution_count": 47,
   "metadata": {},
   "outputs": [],
   "source": [
    "G = np.array([\n",
    "    [0, 0.5, 0, 0.5],\n",
    "    [0.5, 0, 0, 0.5],\n",
    "    [0.25, 0.25, 0.25, 0.25],\n",
    "    [0.5, 0.5, 0, 0],\n",
    "])"
   ]
  },
  {
   "cell_type": "code",
   "execution_count": 48,
   "metadata": {},
   "outputs": [
    {
     "data": {
      "text/plain": [
       "[0, 1, 3, 0]"
      ]
     },
     "execution_count": 48,
     "metadata": {},
     "output_type": "execute_result"
    }
   ],
   "source": [
    "random_walk(G, 0, 4)"
   ]
  },
  {
   "cell_type": "markdown",
   "metadata": {},
   "source": [
    "\n",
    "# (stretch) Exercise 3: Dijkstra's Shortest Path Algorithm\n",
    "\n",
    "Dijkstra's algorithm uses breadth first search to find the **shortest path** between two nodes in a graph.\n",
    "\n",
    "It goes like this:\n",
    "\n",
    "----\n",
    "\n",
    "Let the node at which we are starting be called the initial node. Let the distance of node Y be the distance from the initial node to Y. Dijkstra's algorithm will assign some initial distance values and will try to improve them step by step.\n",
    "\n",
    "1. Mark all nodes unvisited. Create a set of all the unvisited nodes called the unvisited set.\n",
    "\n",
    "2. Assign to every node a tentative distance value: set it to zero for our initial node and to infinity for all other nodes. Set the initial node as current.\n",
    "\n",
    "3. For the current node, consider all of its unvisited neighbours and calculate their tentative distances through the current node. Compare the newly calculated tentative distance to the current assigned value and assign the smaller one. For example, if the current node A is marked with a distance of 6, and the edge connecting it with a neighbour B has length 2, then the distance to B through A will be 6 + 2 = 8. If B was previously marked with a distance greater than 8 then change it to 8. Otherwise, the current value will be kept.\n",
    "\n",
    "4. When we are done considering all of the unvisited neighbours of the current node, mark the current node as visited and remove it from the unvisited set. A visited node will never be checked again.\n",
    "\n",
    "5. If the destination node has been marked visited (when planning a route between two specific nodes) or if the smallest tentative distance among the nodes in the unvisited set is infinity (when planning a complete traversal; occurs when there is no connection between the initial node and remaining unvisited nodes), then stop. The algorithm has finished.\n",
    "\n",
    "6. Otherwise, select the unvisited node that is marked with the smallest tentative distance, set it as the new \"current node\", and go back to step 3.\n",
    "\n",
    "----\n",
    "\n",
    "Here is a GIF of it in action:\n",
    "\n",
    "![](Dijkstras_progress_animation.gif)\n",
    "\n",
    "Implement `shortest_path(G, start_node, end_node)` which takes in a networkX graph, a starting node and an end node and outputs a list of nodes which is the shortest path between the start and end.\n",
    "\n",
    "You can use networkX's shortest path function to test your result, but not to implement it."
   ]
  },
  {
   "cell_type": "code",
   "execution_count": null,
   "metadata": {},
   "outputs": [],
   "source": []
  }
 ],
 "metadata": {
  "colab": {
   "authorship_tag": "ABX9TyO0/qthhJY5M8e1LhZiBYHZ",
   "collapsed_sections": [],
   "name": "Workshop Graphs.ipynb",
   "provenance": []
  },
  "kernelspec": {
   "display_name": "Python 3",
   "language": "python",
   "name": "python3"
  },
  "language_info": {
   "codemirror_mode": {
    "name": "ipython",
    "version": 3
   },
   "file_extension": ".py",
   "mimetype": "text/x-python",
   "name": "python",
   "nbconvert_exporter": "python",
   "pygments_lexer": "ipython3",
   "version": "3.8.3"
  }
 },
 "nbformat": 4,
 "nbformat_minor": 1
}
